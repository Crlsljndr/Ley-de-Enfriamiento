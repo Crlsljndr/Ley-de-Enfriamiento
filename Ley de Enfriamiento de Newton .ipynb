{
 "cells": [
  {
   "cell_type": "code",
   "execution_count": 32,
   "id": "70a5db83",
   "metadata": {},
   "outputs": [
    {
     "data": {
      "image/png": "[encoded data removed]",
      "text/plain": [
       "<Figure size 432x288 with 1 Axes>"
      ]
     },
     "metadata": {
      "needs_background": "light"
     },
     "output_type": "display_data"
    }
   ],
   "source": [
    "import math\n",
    "from pylab import *\n",
    "global k\n",
    "global T\n",
    "def f(x,y): \n",
    "    global k\n",
    "    global T\n",
    "    return -k*(y-T) # Funcion de EDO\n",
    "\n",
    "def y(x):\n",
    "    global k\n",
    "    global T\n",
    "    return (8 * math.e**(-k*x))+22 # SoluciÃ³n exacta EDO con PVI\n",
    "\n",
    "\n",
    "def euler(f,x,y,h,m):\n",
    "    u=[]\n",
    "    v=[]\n",
    "    for i in range(m):\n",
    "        y = y+h*f(x,y)\n",
    "        x = x+h\n",
    "        u = u+[x]\n",
    "        v = v+[y]\n",
    "    return [u,v]\n",
    "k = 0.2877\n",
    "T = 22\n",
    "[u,v] = euler(f,0,30,1,20)\n",
    "plot(u,v,'or', label=\"Euler\")\n",
    "\n",
    "x = arange(0,21,1)\n",
    "plot(x,y(x),'ob', label=\"Real\")\n",
    "grid(True)\n",
    "legend(loc='upper right')\n",
    "show()\n"
   ]
  },
  {
   "cell_type": "code",
   "execution_count": 26,
   "id": "120ff08f",
   "metadata": {
    "scrolled": false
   },
   "outputs": [
    {
     "name": "stdout",
     "output_type": "stream",
     "text": [
      "Los parametros de la regresión lineal \n",
      "w = [ 0.00000000e+00 -2.10112381e+00  2.30194167e-01 -1.12794779e-02\n",
      "  2.04729115e-04], b = 29.491864855687144\n"
     ]
    },
    {
     "data": {
      "image/png": "[encoded data removed]",
      "text/plain": [
       "<Figure size 432x288 with 1 Axes>"
      ]
     },
     "metadata": {
      "needs_background": "light"
     },
     "output_type": "display_data"
    },
    {
     "name": "stdout",
     "output_type": "stream",
     "text": [
      "0.0002047291150462094 x**4 + -0.01127947785834782 x**3 + 0.2301941669079785 x**2 + -2.101123814410511 x + 29.491864855687144\n"
     ]
    }
   ],
   "source": [
    "from sklearn.metrics import mean_squared_error \n",
    "import matplotlib.pyplot as plt\n",
    "from sympy.solvers import solve\n",
    "from sympy import*\n",
    "import numpy as np\n",
    "##### Datos experimentales #############\n",
    "## pueden ser  x: los datos del número de iteraciones y y: la solución o el error #####\n",
    "x= np.array([1, 2, 3, 4, 5, 6, 7, 8, 9, 10, 11, 12, 13, 14, 15, 16, 17, 18, 19, 20])\n",
    "y= np.array([27.6984, 26.05897032, 24.891204558936, 24.059405007330113, 23.46691418672124, 23.04488297520154, 22.744270143236054, 22.53014362302704, 22.37762130268216, 22.268979653900505, 22.19159420747333, 22.136472553983253, 22.09720940020227, 22.069242255764077, 22.049321258780754, 22.03513153262953, 22.025024190692015, 22.017824731029922, 22.012696555912612, 22.009043756776553])\n",
    "\n",
    "# Importamos la clase de Regresión Lineal de scikit-learn\n",
    "from sklearn.linear_model import LinearRegression \n",
    "# para generar características polinómicas\n",
    "from sklearn.preprocessing import PolynomialFeatures \n",
    "###### usaremos polinomios de grado 2  ###############\n",
    "pf = PolynomialFeatures(degree = 4) \n",
    "####### transformamos la entrada en polinómica ######\n",
    "X = pf.fit_transform(x.reshape(-1,1))  \n",
    "####### creamos una instancia de LinearRegression ######\n",
    "regresion_lineal = LinearRegression() \n",
    "# instruimos a la regresión lineal que aprenda de los datos (ahora polinómicos) (X,y)\n",
    "regresion_lineal.fit(X, y) \n",
    "# vemos los parámetros que ha estimado la regresión lineal\n",
    "#### Los parametros vienen ordenados como w = [0 , A x, B x^2], b ==> b + Ax +Bx^2\n",
    "print(\"Los parametros de la regresión lineal \")\n",
    "print('w = ' + str(regresion_lineal.coef_) + ', b = ' + str(regresion_lineal.intercept_))\n",
    "coef=regresion_lineal.coef_\n",
    "\n",
    "f=coef[-1]*x**4+coef[-2]*x**3+coef[-3]*x**2+coef[-4]*x+regresion_lineal.intercept_\n",
    "\n",
    "\n",
    "# importamos el cálculo del error cuadrático medio (MSE)\n",
    "# Predecimos los valores y para los datos usados en el entrenamiento\n",
    "####### Genera los datos para la curva amarilla que se ajusta a los datos experimentales ############\n",
    "prediccion_entrenamiento = regresion_lineal.predict(X)\n",
    "############ Graficamos los datos experimentales ##########################################\n",
    "plt.scatter(x, y, color='navy', s=30, marker='o')\n",
    "############ Graficamos los datos de entrenamiento (modelo ajustado, curva amarilla) ##########\n",
    "plt.plot(x,prediccion_entrenamiento, color='red', linewidth=2)\n",
    "######################### Agregamos y mostramos leyendas ##########################\n",
    "plt.show()\n",
    "print(coef[-1],\"x**4 +\",coef[-2],\"x**3 +\",coef[-3],\"x**2 +\",coef[-4],\"x +\",regresion_lineal.intercept_)"
   ]
  },
  {
   "cell_type": "code",
   "execution_count": 52,
   "id": "f6fab173",
   "metadata": {
    "scrolled": true
   },
   "outputs": [
    {
     "data": {
      "image/png": "[encoded data removed]",
      "text/plain": [
       "<Figure size 432x288 with 1 Axes>"
      ]
     },
     "metadata": {
      "needs_background": "light"
     },
     "output_type": "display_data"
    }
   ],
   "source": [
    "import math\n",
    "from pylab import *\n",
    "global k\n",
    "global T\n",
    "def f(x,y): \n",
    "    global k\n",
    "    global T\n",
    "    return (-k*(y-T)) # Funcion de EDO\n",
    "\n",
    "def y(x):\n",
    "    global k\n",
    "    global T\n",
    "    return (8 * math.e**(-k*x))+T # Solución exacta EDO con PVI\n",
    "\n",
    "def heun(f,x,y,h,m):\n",
    "    u=[]\n",
    "    v=[]\n",
    "    for i in range(m):\n",
    "        k1 = h*f(x,y)\n",
    "        k2 = h*f(x+h,y+k1)\n",
    "        y = y+0.5*(k1+k2)\n",
    "        x = x+h\n",
    "        u = u+[x]\n",
    "        v = v+[y]\n",
    "        \n",
    "    return [u,v]\n",
    "k = 0.2877\n",
    "T = 22\n",
    "[u,v] = heun(f,0,30,1,20)\n",
    "plot(u,v,'or', label=\"Heun\")\n",
    "x = arange(0,21,1)\n",
    "plot(x,y(x),'ob', label=\"Real\")\n",
    "grid(True)\n",
    "legend(loc='upper right')\n",
    "show()\n"
   ]
  },
  {
   "cell_type": "code",
   "execution_count": 33,
   "id": "13108dc4",
   "metadata": {},
   "outputs": [
    {
     "data": {
      "image/png": "[encoded data removed]",
      "text/plain": [
       "<Figure size 432x288 with 1 Axes>"
      ]
     },
     "metadata": {
      "needs_background": "light"
     },
     "output_type": "display_data"
    },
    {
     "name": "stdout",
     "output_type": "stream",
     "text": [
      "[1, 2, 3, 4, 5, 6, 7, 8, 9, 10, 11, 12, 13, 14, 15, 16, 17, 18, 19, 20]\n",
      "[28.000017788638754, 26.500026682997685, 25.375030018416894, 24.531280018461395, 23.898465642349276, 23.423853453151896, 23.067893255915763, 22.800922316482744, 22.600693518276778, 22.450521474397583, 22.337892107568656, 22.25341983200657, 22.19006543750416, 22.142549500753795, 22.106912442535542, 22.08018456963001, 22.0601386055193, 22.045104087862466, 22.03382816618939, 22.02537119986167]\n"
     ]
    }
   ],
   "source": [
    "import math\n",
    "from pylab import *\n",
    "global k\n",
    "global T\n",
    "def f(x,y): \n",
    "    global k\n",
    "    global T\n",
    "    return (-k*(y-T)) # Funcion de EDO\n",
    "\n",
    "def y(x):\n",
    "    global k\n",
    "    global T\n",
    "    return (8 * math.e**(-k*x))+T # Solución exacta EDO con PVI\n",
    "\n",
    "def rungekutta(f,x,y,h,m):\n",
    "    u=[]\n",
    "    v=[]\n",
    "    for i in range(m):\n",
    "        k1 = h*f(x,y)\n",
    "        k2 = h*f(x+h/2,y+k1/2)\n",
    "        k3 = h*f(x+h/2,y+k2/2)\n",
    "        k4 = h*f(x+h,y+k3)\n",
    "        y = y+1/6*(k1+2*k2+2*k3+k4)\n",
    "        x = x+h\n",
    "        u = u+[x]\n",
    "        v = v+[y]\n",
    "        \n",
    "    return [u,v]\n",
    "k = 0.2877\n",
    "T = 22\n",
    "[u,v] = rungekutta(f,0,30,1,20)\n",
    "plot(u,v,'or', label=\"Rungekutta\")\n",
    "x = arange(0,21,1)\n",
    "plot(x,y(x),'ob', label=\"Real\")\n",
    "grid(True)\n",
    "legend(loc='upper right')\n",
    "show()\n",
    "print(u)\n",
    "print(v)"
   ]
  },
  {
   "cell_type": "code",
   "execution_count": 38,
   "id": "e8caf632",
   "metadata": {},
   "outputs": [
    {
     "name": "stdout",
     "output_type": "stream",
     "text": [
      "Los parametros de la regresión lineal \n",
      "w = [ 0.00000000e+00 -1.92573622e+00  1.95041001e-01 -9.07070604e-03\n",
      "  1.59049536e-04], b = 29.681977329226942\n"
     ]
    },
    {
     "data": {
      "image/png": "[encoded data removed]",
      "text/plain": [
       "<Figure size 432x288 with 1 Axes>"
      ]
     },
     "metadata": {
      "needs_background": "light"
     },
     "output_type": "display_data"
    },
    {
     "name": "stdout",
     "output_type": "stream",
     "text": [
      "0.00015904953601708627 x**4 + -0.009070706043670468 x**3 + 0.19504100138831287 x**2 + -1.9257362186663451 x + 29.681977329226942\n"
     ]
    }
   ],
   "source": [
    "from sklearn.metrics import mean_squared_error \n",
    "import matplotlib.pyplot as plt\n",
    "from sympy.solvers import solve\n",
    "from sympy import*\n",
    "import numpy as np\n",
    "##### Datos experimentales #############\n",
    "## pueden ser  x: los datos del número de iteraciones y y: la solución o el error #####\n",
    "x= np.array([1, 2, 3, 4, 5, 6, 7, 8, 9, 10, 11, 12, 13, 14, 15, 16, 17, 18, 19, 20])\n",
    "y= np.array([28.000017788638754, 26.500026682997685, 25.375030018416894, 24.531280018461395, 23.898465642349276, 23.423853453151896, 23.067893255915763, 22.800922316482744, 22.600693518276778, 22.450521474397583, 22.337892107568656, 22.25341983200657, 22.19006543750416, 22.142549500753795, 22.106912442535542, 22.08018456963001, 22.0601386055193, 22.045104087862466, 22.03382816618939, 22.02537119986167])\n",
    "\n",
    "# Importamos la clase de Regresión Lineal de scikit-learn\n",
    "from sklearn.linear_model import LinearRegression \n",
    "# para generar características polinómicas\n",
    "from sklearn.preprocessing import PolynomialFeatures \n",
    "###### usaremos polinomios de grado 2  ###############\n",
    "pf = PolynomialFeatures(degree = 4) \n",
    "####### transformamos la entrada en polinómica ######\n",
    "X = pf.fit_transform(x.reshape(-1,1))  \n",
    "####### creamos una instancia de LinearRegression ######\n",
    "regresion_lineal = LinearRegression() \n",
    "# instruimos a la regresión lineal que aprenda de los datos (ahora polinómicos) (X,y)\n",
    "regresion_lineal.fit(X, y) \n",
    "# vemos los parámetros que ha estimado la regresión lineal\n",
    "#### Los parametros vienen ordenados como w = [0 , A x, B x^2], b ==> b + Ax +Bx^2\n",
    "print(\"Los parametros de la regresión lineal \")\n",
    "print('w = ' + str(regresion_lineal.coef_) + ', b = ' + str(regresion_lineal.intercept_))\n",
    "coef=regresion_lineal.coef_\n",
    "\n",
    "f=coef[-1]*x**4+coef[-2]*x**3+coef[-3]*x**2+coef[-4]*x+regresion_lineal.intercept_\n",
    "\n",
    "\n",
    "# importamos el cálculo del error cuadrático medio (MSE)\n",
    "# Predecimos los valores y para los datos usados en el entrenamiento\n",
    "####### Genera los datos para la curva amarilla que se ajusta a los datos experimentales ############\n",
    "prediccion_entrenamiento = regresion_lineal.predict(X)\n",
    "############ Graficamos los datos experimentales ##########################################\n",
    "plt.scatter(x, y, color='navy', s=30, marker='o')\n",
    "############ Graficamos los datos de entrenamiento (modelo ajustado, curva amarilla) ##########\n",
    "plt.plot(x,prediccion_entrenamiento, color='green', linewidth=2)\n",
    "######################### Agregamos y mostramos leyendas ##########################\n",
    "plt.show()\n",
    "print(coef[-1],\"x**4 +\",coef[-2],\"x**3 +\",coef[-3],\"x**2 +\",coef[-4],\"x +\",regresion_lineal.intercept_)"
   ]
  }
 ],
 "metadata": {
  "kernelspec": {
   "display_name": "Python 3 (ipykernel)",
   "language": "python",
   "name": "python3"
  },
  "language_info": {
   "codemirror_mode": {
    "name": "ipython",
    "version": 3
   },
   "file_extension": ".py",
   "mimetype": "text/x-python",
   "name": "python",
   "nbconvert_exporter": "python",
   "pygments_lexer": "ipython3",
   "version": "3.9.7"
  }
 },
 "nbformat": 4,
 "nbformat_minor": 5
}
